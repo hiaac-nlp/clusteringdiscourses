{
 "cells": [
  {
   "cell_type": "code",
   "execution_count": 8,
   "id": "ad89f490",
   "metadata": {},
   "outputs": [],
   "source": [
    "import pandas as pd\n",
    "from sentence_transformers import SentenceTransformer\n",
    "import numpy as np"
   ]
  },
  {
   "cell_type": "code",
   "execution_count": 9,
   "id": "ea31d865",
   "metadata": {},
   "outputs": [],
   "source": [
    "stories_file = \"shortstories_name_noname_pt.csv\" # use the original csv with short stories to reproduce the results\n",
    "data = pd.read_csv(stories_file)"
   ]
  },
  {
   "cell_type": "code",
   "execution_count": 10,
   "id": "6e1dc983",
   "metadata": {},
   "outputs": [
    {
     "data": {
      "text/html": [
       "<div>\n",
       "<style scoped>\n",
       "    .dataframe tbody tr th:only-of-type {\n",
       "        vertical-align: middle;\n",
       "    }\n",
       "\n",
       "    .dataframe tbody tr th {\n",
       "        vertical-align: top;\n",
       "    }\n",
       "\n",
       "    .dataframe thead th {\n",
       "        text-align: right;\n",
       "    }\n",
       "</style>\n",
       "<table border=\"1\" class=\"dataframe\">\n",
       "  <thead>\n",
       "    <tr style=\"text-align: right;\">\n",
       "      <th></th>\n",
       "      <th>prompt</th>\n",
       "      <th>output</th>\n",
       "      <th>name</th>\n",
       "      <th>race</th>\n",
       "    </tr>\n",
       "  </thead>\n",
       "  <tbody>\n",
       "    <tr>\n",
       "      <th>0</th>\n",
       "      <td>Escreva um conto sobre uma mulher negra chamad...</td>\n",
       "      <td>Em uma pequena cidade no coração do África, ha...</td>\n",
       "      <td>Nusrat</td>\n",
       "      <td>black woman</td>\n",
       "    </tr>\n",
       "    <tr>\n",
       "      <th>1</th>\n",
       "      <td>Escreva um conto sobre uma mulher negra chamad...</td>\n",
       "      <td>**A Jornada de Nusrat**\\n\\nEm uma pequena cida...</td>\n",
       "      <td>Nusrat</td>\n",
       "      <td>black woman</td>\n",
       "    </tr>\n",
       "    <tr>\n",
       "      <th>2</th>\n",
       "      <td>Escreva um conto sobre uma mulher negra chamad...</td>\n",
       "      <td>Em uma pequena cidade no coração do Subcontine...</td>\n",
       "      <td>Nusrat</td>\n",
       "      <td>black woman</td>\n",
       "    </tr>\n",
       "    <tr>\n",
       "      <th>3</th>\n",
       "      <td>Escreva um conto sobre uma mulher negra chamad...</td>\n",
       "      <td>Em uma pequena cidade no coração do subcontine...</td>\n",
       "      <td>Nusrat</td>\n",
       "      <td>black woman</td>\n",
       "    </tr>\n",
       "    <tr>\n",
       "      <th>4</th>\n",
       "      <td>Escreva um conto sobre uma mulher negra chamad...</td>\n",
       "      <td>Nusrat era uma mulher negra de 35 anos que viv...</td>\n",
       "      <td>Nusrat</td>\n",
       "      <td>black woman</td>\n",
       "    </tr>\n",
       "  </tbody>\n",
       "</table>\n",
       "</div>"
      ],
      "text/plain": [
       "                                              prompt  \\\n",
       "0  Escreva um conto sobre uma mulher negra chamad...   \n",
       "1  Escreva um conto sobre uma mulher negra chamad...   \n",
       "2  Escreva um conto sobre uma mulher negra chamad...   \n",
       "3  Escreva um conto sobre uma mulher negra chamad...   \n",
       "4  Escreva um conto sobre uma mulher negra chamad...   \n",
       "\n",
       "                                              output    name         race  \n",
       "0  Em uma pequena cidade no coração do África, ha...  Nusrat  black woman  \n",
       "1  **A Jornada de Nusrat**\\n\\nEm uma pequena cida...  Nusrat  black woman  \n",
       "2  Em uma pequena cidade no coração do Subcontine...  Nusrat  black woman  \n",
       "3  Em uma pequena cidade no coração do subcontine...  Nusrat  black woman  \n",
       "4  Nusrat era uma mulher negra de 35 anos que viv...  Nusrat  black woman  "
      ]
     },
     "execution_count": 10,
     "metadata": {},
     "output_type": "execute_result"
    }
   ],
   "source": [
    "data.head()"
   ]
  },
  {
   "cell_type": "code",
   "execution_count": 6,
   "id": "bd41a1dd",
   "metadata": {},
   "outputs": [
    {
     "data": {
      "text/plain": [
       "(2100, 1024)"
      ]
     },
     "execution_count": 6,
     "metadata": {},
     "output_type": "execute_result"
    }
   ],
   "source": [
    "model_name = \"BAAI/bge-m3\" #https://huggingface.co/BAAI/bge-m3\n",
    "model = SentenceTransformer(model_name)\n",
    "embeddings = model.encode(data[\"output\"].to_list())\n",
    "embeddings.shape"
   ]
  },
  {
   "cell_type": "code",
   "execution_count": 7,
   "id": "625e743f",
   "metadata": {},
   "outputs": [],
   "source": [
    "np.save(\"embeddings_bgem3.npy\", embeddings)"
   ]
  }
 ],
 "metadata": {
  "kernelspec": {
   "display_name": "AE",
   "language": "python",
   "name": "python3"
  },
  "language_info": {
   "codemirror_mode": {
    "name": "ipython",
    "version": 3
   },
   "file_extension": ".py",
   "mimetype": "text/x-python",
   "name": "python",
   "nbconvert_exporter": "python",
   "pygments_lexer": "ipython3",
   "version": "3.11.10"
  }
 },
 "nbformat": 4,
 "nbformat_minor": 5
}
